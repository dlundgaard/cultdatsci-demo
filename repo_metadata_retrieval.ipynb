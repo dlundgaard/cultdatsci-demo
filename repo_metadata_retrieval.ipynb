{
 "cells": [
  {
   "cell_type": "code",
   "execution_count": 3,
   "id": "8fa2f4bf-a43b-44cb-80a7-4c631d318a07",
   "metadata": {},
   "outputs": [],
   "source": [
    "import requests"
   ]
  },
  {
   "cell_type": "code",
   "execution_count": 4,
   "id": "3e2dc3af-a019-4316-a51e-4ca4d5c05262",
   "metadata": {},
   "outputs": [
    {
     "data": {
      "text/plain": [
       "'Cultural Data Science Assignment 1: Your Computing Landscape'"
      ]
     },
     "execution_count": 4,
     "metadata": {},
     "output_type": "execute_result"
    }
   ],
   "source": [
    "\"\"\"\n",
    "https://docs.github.com/en/rest/repos/repos?apiVersion=2022-11-28#get-a-repository\n",
    "\"\"\"\n",
    "def retrieve_repo_description(repository_name = \"cultdatsci-demo\"):\n",
    "    response = requests.get(\n",
    "        url = f\"https://api.github.com/repos/dlundgaard/{repository_name}\",\n",
    "        headers = dict(Accept = \"application/vnd.github.v3+json\"),\n",
    "    )\n",
    "    response.raise_for_status()\n",
    "    return response.json().get(\"description\")\n",
    "\n",
    "retrieve_repo_description()"
   ]
  }
 ],
 "metadata": {
  "kernelspec": {
   "display_name": "Python 3 ",
   "language": "python",
   "name": "python3"
  },
  "language_info": {
   "codemirror_mode": {
    "name": "ipython",
    "version": 3
   },
   "file_extension": ".py",
   "mimetype": "text/x-python",
   "name": "python",
   "nbconvert_exporter": "python",
   "pygments_lexer": "ipython3",
   "version": "3.10.14"
  }
 },
 "nbformat": 4,
 "nbformat_minor": 5
}
