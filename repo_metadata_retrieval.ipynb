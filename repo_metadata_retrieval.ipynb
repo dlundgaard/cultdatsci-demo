{
 "cells": [
  {
   "cell_type": "code",
   "execution_count": 1,
   "id": "8fa2f4bf-a43b-44cb-80a7-4c631d318a07",
   "metadata": {},
   "outputs": [],
   "source": [
    "import requests\n",
    "import configparser"
   ]
  },
  {
   "cell_type": "code",
   "execution_count": 13,
   "id": "3e2dc3af-a019-4316-a51e-4ca4d5c05262",
   "metadata": {},
   "outputs": [
    {
     "data": {
      "text/plain": [
       "'Cultural Data Science Assignment 1: Your Computing Landscape'"
      ]
     },
     "execution_count": 13,
     "metadata": {},
     "output_type": "execute_result"
    }
   ],
   "source": [
    "\"\"\"\n",
    "retrieve the url for the remote mirror by parsing the config file in the local `.git` directory \n",
    "\"\"\"\n",
    "def retrieve_repo_url():\n",
    "    config = configparser.ConfigParser()\n",
    "    config.read(\".git/config\")\n",
    "    return config['remote \"origin\"'][\"url\"]\n",
    "\n",
    "\"\"\"\n",
    "retrieve project description from the GitHub remote mirror using the GitHub API\n",
    "https://docs.github.com/en/rest/repos/repos?apiVersion=2022-11-28#get-a-repository\n",
    "\"\"\"\n",
    "def retrieve_repo_description():\n",
    "    response = requests.get(\"https://api.github.com/repos/\" + \"/\".join(retrieve_repo_url().split(\"/\")[-2:]))\n",
    "    response.raise_for_status()\n",
    "    return response.json().get(\"description\")\n",
    "\n",
    "retrieve_repo_description()"
   ]
  }
 ],
 "metadata": {
  "kernelspec": {
   "display_name": "Python 3 ",
   "language": "python",
   "name": "python3"
  },
  "language_info": {
   "codemirror_mode": {
    "name": "ipython",
    "version": 3
   },
   "file_extension": ".py",
   "mimetype": "text/x-python",
   "name": "python",
   "nbconvert_exporter": "python",
   "pygments_lexer": "ipython3",
   "version": "3.10.14"
  }
 },
 "nbformat": 4,
 "nbformat_minor": 5
}
